{
 "cells": [
  {
   "cell_type": "markdown",
   "id": "135b57da",
   "metadata": {},
   "source": [
    "# Hands on Neural Networks with PyTorch (Part 1)\n",
    "ACE Project - Agent-Based Modeling (ABM)\n",
    "\n",
    "3/4/2024"
   ]
  },
  {
   "cell_type": "markdown",
   "id": "6648661e",
   "metadata": {},
   "source": [
    "## Import libraries"
   ]
  },
  {
   "cell_type": "code",
   "execution_count": null,
   "id": "1918d143",
   "metadata": {},
   "outputs": [],
   "source": [
    "import torch\n",
    "from torch.nn import Linear\n",
    "import torch.nn.functional as F"
   ]
  },
  {
   "cell_type": "markdown",
   "id": "48d52a5c",
   "metadata": {},
   "source": [
    "## Define your NN architecture"
   ]
  },
  {
   "cell_type": "code",
   "execution_count": null,
   "id": "1a07ec5b",
   "metadata": {},
   "outputs": [],
   "source": [
    "class Net(torch.nn.Module):\n",
    "    def __init__(self, in_channels, hidden_channels, out_channels):\n",
    "        super(Net, self).__init__()\n",
    "        self.layer1 = Linear(in_channels, hidden_channels)\n",
    "        self.layer2 = Linear(hidden_channels, out_channels)\n",
    "    \n",
    "    def forward(self, x):\n",
    "        x = self.layer1(x)\n",
    "        x = F.relu(x)\n",
    "        \n",
    "        x = self.layer2(x)\n",
    "        x = F.relu(x)\n",
    "        \n",
    "        return x"
   ]
  },
  {
   "cell_type": "markdown",
   "id": "f91991f2",
   "metadata": {},
   "source": [
    "## Initialize an instance of the defined NN"
   ]
  },
  {
   "cell_type": "code",
   "execution_count": null,
   "id": "f3801806",
   "metadata": {},
   "outputs": [],
   "source": [
    "model = Net(3, 5, 1)\n",
    "model"
   ]
  },
  {
   "cell_type": "markdown",
   "id": "352f9ceb",
   "metadata": {},
   "source": [
    "## Prepare a random imput for your NN"
   ]
  },
  {
   "cell_type": "code",
   "execution_count": null,
   "id": "4a739a19",
   "metadata": {},
   "outputs": [],
   "source": [
    "input_test = torch.randn(3)"
   ]
  },
  {
   "cell_type": "markdown",
   "id": "0aa16ffe",
   "metadata": {},
   "source": [
    "## You can evaluate the model by calling  it (more generaly `torch.nn.Module` objects)"
   ]
  },
  {
   "cell_type": "code",
   "execution_count": null,
   "id": "4e4d81b7",
   "metadata": {},
   "outputs": [],
   "source": [
    "model(input_test)"
   ]
  },
  {
   "cell_type": "markdown",
   "id": "aa87b63c",
   "metadata": {},
   "source": [
    "## You can see the values of the model parameters (i.e. `w`'s)"
   ]
  },
  {
   "cell_type": "code",
   "execution_count": null,
   "id": "8faac9c9",
   "metadata": {},
   "outputs": [],
   "source": [
    "list(model.parameters())"
   ]
  },
  {
   "cell_type": "markdown",
   "id": "6ec5b5e5",
   "metadata": {},
   "source": [
    "## Save the state dict of your model"
   ]
  },
  {
   "cell_type": "code",
   "execution_count": null,
   "id": "a7fc81fa",
   "metadata": {},
   "outputs": [],
   "source": [
    "torch.save(model.state_dict(), './saved_model.pt')"
   ]
  },
  {
   "cell_type": "markdown",
   "id": "596b00ad",
   "metadata": {},
   "source": [
    "## By loading an state dict, you can reconstruct your NN everywhere \n",
    "But, subject to a few conditions!"
   ]
  },
  {
   "cell_type": "code",
   "execution_count": null,
   "id": "646572b6",
   "metadata": {},
   "outputs": [],
   "source": [
    "model2 = Net(3, 5, 1)"
   ]
  },
  {
   "cell_type": "code",
   "execution_count": null,
   "id": "a5b2ae29",
   "metadata": {},
   "outputs": [],
   "source": [
    "model2.load_state_dict(torch.load('./saved_model.pt'))"
   ]
  },
  {
   "cell_type": "code",
   "execution_count": null,
   "id": "0d1e2815",
   "metadata": {},
   "outputs": [],
   "source": [
    "model2"
   ]
  },
  {
   "cell_type": "markdown",
   "id": "d8be01a0",
   "metadata": {},
   "source": [
    "## You can see that the parameters of `model` and `model2` are identical."
   ]
  },
  {
   "cell_type": "code",
   "execution_count": null,
   "id": "bf641025",
   "metadata": {},
   "outputs": [],
   "source": [
    "list(model2.parameters())"
   ]
  }
 ],
 "metadata": {
  "kernelspec": {
   "display_name": "Python 3 (ipykernel)",
   "language": "python",
   "name": "python3"
  },
  "language_info": {
   "codemirror_mode": {
    "name": "ipython",
    "version": 3
   },
   "file_extension": ".py",
   "mimetype": "text/x-python",
   "name": "python",
   "nbconvert_exporter": "python",
   "pygments_lexer": "ipython3",
   "version": "3.10.9"
  }
 },
 "nbformat": 4,
 "nbformat_minor": 5
}
